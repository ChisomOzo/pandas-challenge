{
 "cells": [
  {
   "cell_type": "code",
   "execution_count": 27,
   "metadata": {},
   "outputs": [
    {
     "data": {
      "text/html": [
       "<div>\n",
       "<style scoped>\n",
       "    .dataframe tbody tr th:only-of-type {\n",
       "        vertical-align: middle;\n",
       "    }\n",
       "\n",
       "    .dataframe tbody tr th {\n",
       "        vertical-align: top;\n",
       "    }\n",
       "\n",
       "    .dataframe thead th {\n",
       "        text-align: right;\n",
       "    }\n",
       "</style>\n",
       "<table border=\"1\" class=\"dataframe\">\n",
       "  <thead>\n",
       "    <tr style=\"text-align: right;\">\n",
       "      <th></th>\n",
       "      <th>Student ID</th>\n",
       "      <th>student_name</th>\n",
       "      <th>gender</th>\n",
       "      <th>grade</th>\n",
       "      <th>school_name</th>\n",
       "      <th>reading_score</th>\n",
       "      <th>math_score</th>\n",
       "      <th>School ID</th>\n",
       "      <th>type</th>\n",
       "      <th>size</th>\n",
       "      <th>budget</th>\n",
       "    </tr>\n",
       "  </thead>\n",
       "  <tbody>\n",
       "    <tr>\n",
       "      <th>0</th>\n",
       "      <td>0</td>\n",
       "      <td>Paul Bradley</td>\n",
       "      <td>M</td>\n",
       "      <td>9th</td>\n",
       "      <td>Huang High School</td>\n",
       "      <td>66</td>\n",
       "      <td>79</td>\n",
       "      <td>0</td>\n",
       "      <td>District</td>\n",
       "      <td>2917</td>\n",
       "      <td>1910635</td>\n",
       "    </tr>\n",
       "    <tr>\n",
       "      <th>1</th>\n",
       "      <td>1</td>\n",
       "      <td>Victor Smith</td>\n",
       "      <td>M</td>\n",
       "      <td>12th</td>\n",
       "      <td>Huang High School</td>\n",
       "      <td>94</td>\n",
       "      <td>61</td>\n",
       "      <td>0</td>\n",
       "      <td>District</td>\n",
       "      <td>2917</td>\n",
       "      <td>1910635</td>\n",
       "    </tr>\n",
       "    <tr>\n",
       "      <th>2</th>\n",
       "      <td>2</td>\n",
       "      <td>Kevin Rodriguez</td>\n",
       "      <td>M</td>\n",
       "      <td>12th</td>\n",
       "      <td>Huang High School</td>\n",
       "      <td>90</td>\n",
       "      <td>60</td>\n",
       "      <td>0</td>\n",
       "      <td>District</td>\n",
       "      <td>2917</td>\n",
       "      <td>1910635</td>\n",
       "    </tr>\n",
       "    <tr>\n",
       "      <th>3</th>\n",
       "      <td>3</td>\n",
       "      <td>Dr. Richard Scott</td>\n",
       "      <td>M</td>\n",
       "      <td>12th</td>\n",
       "      <td>Huang High School</td>\n",
       "      <td>67</td>\n",
       "      <td>58</td>\n",
       "      <td>0</td>\n",
       "      <td>District</td>\n",
       "      <td>2917</td>\n",
       "      <td>1910635</td>\n",
       "    </tr>\n",
       "    <tr>\n",
       "      <th>4</th>\n",
       "      <td>4</td>\n",
       "      <td>Bonnie Ray</td>\n",
       "      <td>F</td>\n",
       "      <td>9th</td>\n",
       "      <td>Huang High School</td>\n",
       "      <td>97</td>\n",
       "      <td>84</td>\n",
       "      <td>0</td>\n",
       "      <td>District</td>\n",
       "      <td>2917</td>\n",
       "      <td>1910635</td>\n",
       "    </tr>\n",
       "  </tbody>\n",
       "</table>\n",
       "</div>"
      ],
      "text/plain": [
       "   Student ID       student_name gender grade        school_name  \\\n",
       "0           0       Paul Bradley      M   9th  Huang High School   \n",
       "1           1       Victor Smith      M  12th  Huang High School   \n",
       "2           2    Kevin Rodriguez      M  12th  Huang High School   \n",
       "3           3  Dr. Richard Scott      M  12th  Huang High School   \n",
       "4           4         Bonnie Ray      F   9th  Huang High School   \n",
       "\n",
       "   reading_score  math_score  School ID      type  size   budget  \n",
       "0             66          79          0  District  2917  1910635  \n",
       "1             94          61          0  District  2917  1910635  \n",
       "2             90          60          0  District  2917  1910635  \n",
       "3             67          58          0  District  2917  1910635  \n",
       "4             97          84          0  District  2917  1910635  "
      ]
     },
     "execution_count": 27,
     "metadata": {},
     "output_type": "execute_result"
    }
   ],
   "source": [
    "import pandas as pd\n",
    "from pathlib import Path\n",
    "school_data = Path(\"../Resources/schools_complete.csv\")\n",
    "student_data= Path(\"../Resources/students_complete.csv\")\n",
    "school_data_df=pd.read_csv(school_data)\n",
    "student_data_df=pd.read_csv(student_data)\n",
    "school_data_finished = pd.merge(student_data_df, school_data_df, how=\"left\", on=[\"school_name\", \"school_name\"])\n",
    "school_data_finished.head()\n"
   ]
  },
  {
   "cell_type": "code",
   "execution_count": 28,
   "metadata": {},
   "outputs": [
    {
     "data": {
      "text/plain": [
       "15"
      ]
     },
     "execution_count": 28,
     "metadata": {},
     "output_type": "execute_result"
    }
   ],
   "source": [
    "uniques_school= school_data_finished['school_name'].unique()\n",
    "total_uniques_school= len(uniques_school)\n",
    "total_uniques_school"
   ]
  },
  {
   "cell_type": "code",
   "execution_count": 29,
   "metadata": {},
   "outputs": [
    {
     "data": {
      "text/plain": [
       "39170"
      ]
     },
     "execution_count": 29,
     "metadata": {},
     "output_type": "execute_result"
    }
   ],
   "source": [
    "total_number_students= school_data_finished['student_name'].count()\n",
    "total_number_students"
   ]
  },
  {
   "cell_type": "code",
   "execution_count": 30,
   "metadata": {},
   "outputs": [
    {
     "data": {
      "text/plain": [
       "24649428"
      ]
     },
     "execution_count": 30,
     "metadata": {},
     "output_type": "execute_result"
    }
   ],
   "source": [
    "total_number_budget= school_data_df['budget'].sum()\n",
    "total_number_budget"
   ]
  },
  {
   "cell_type": "code",
   "execution_count": 31,
   "metadata": {},
   "outputs": [
    {
     "data": {
      "text/plain": [
       "78.98537145774827"
      ]
     },
     "execution_count": 31,
     "metadata": {},
     "output_type": "execute_result"
    }
   ],
   "source": [
    "average_math_score= student_data_df['math_score'].mean()\n",
    "average_math_score"
   ]
  },
  {
   "cell_type": "code",
   "execution_count": 32,
   "metadata": {},
   "outputs": [
    {
     "data": {
      "text/plain": [
       "81.87784018381414"
      ]
     },
     "execution_count": 32,
     "metadata": {},
     "output_type": "execute_result"
    }
   ],
   "source": [
    "average_reading_score= student_data_df['reading_score'].mean()\n",
    "average_reading_score"
   ]
  },
  {
   "cell_type": "code",
   "execution_count": 33,
   "metadata": {},
   "outputs": [
    {
     "data": {
      "text/plain": [
       "88.6392647434261"
      ]
     },
     "execution_count": 33,
     "metadata": {},
     "output_type": "execute_result"
    }
   ],
   "source": [
    "passing_reading= school_data_finished.loc[school_data_finished['reading_score']>=69]\n",
    "passing_reading_count= passing_reading['Student ID'].count()\n",
    "percentage_passing= (passing_reading_count/total_number_students)*100\n",
    "percentage_passing\n"
   ]
  },
  {
   "cell_type": "code",
   "execution_count": 34,
   "metadata": {},
   "outputs": [
    {
     "data": {
      "text/plain": [
       "77.51340311462855"
      ]
     },
     "execution_count": 34,
     "metadata": {},
     "output_type": "execute_result"
    }
   ],
   "source": [
    "passing_math= school_data_finished.loc[school_data_finished['math_score']>=69]\n",
    "passing_math_count= passing_math['Student ID'].count()\n",
    "percentage_passing2= (passing_math_count/total_number_students)*100\n",
    "percentage_passing2"
   ]
  },
  {
   "cell_type": "code",
   "execution_count": 35,
   "metadata": {},
   "outputs": [
    {
     "data": {
      "text/plain": [
       "69.62471279040082"
      ]
     },
     "execution_count": 35,
     "metadata": {},
     "output_type": "execute_result"
    }
   ],
   "source": [
    "overall_passing= school_data_finished[\n",
    "    (school_data_finished['math_score']>=69) & (school_data_finished['reading_score']>=69)\n",
    "].count()['student_name']\n",
    "overall_passing_student=overall_passing/float(total_number_students)*100\n",
    "overall_passing_student"
   ]
  },
  {
   "cell_type": "markdown",
   "metadata": {},
   "source": []
  },
  {
   "cell_type": "code",
   "execution_count": 36,
   "metadata": {},
   "outputs": [
    {
     "data": {
      "text/html": [
       "<div>\n",
       "<style scoped>\n",
       "    .dataframe tbody tr th:only-of-type {\n",
       "        vertical-align: middle;\n",
       "    }\n",
       "\n",
       "    .dataframe tbody tr th {\n",
       "        vertical-align: top;\n",
       "    }\n",
       "\n",
       "    .dataframe thead th {\n",
       "        text-align: right;\n",
       "    }\n",
       "</style>\n",
       "<table border=\"1\" class=\"dataframe\">\n",
       "  <thead>\n",
       "    <tr style=\"text-align: right;\">\n",
       "      <th></th>\n",
       "      <th>Total Schools</th>\n",
       "      <th>Total Students</th>\n",
       "      <th>Total Budget</th>\n",
       "      <th>Average Math Score</th>\n",
       "      <th>Average Reading Score</th>\n",
       "      <th>% Passing Math</th>\n",
       "      <th>% Passing Reading</th>\n",
       "      <th>% Overall Passing</th>\n",
       "    </tr>\n",
       "  </thead>\n",
       "  <tbody>\n",
       "    <tr>\n",
       "      <th>0</th>\n",
       "      <td>15</td>\n",
       "      <td>39,170</td>\n",
       "      <td>$24,649,428.00</td>\n",
       "      <td>78.985371</td>\n",
       "      <td>81.87784</td>\n",
       "      <td>77.513403</td>\n",
       "      <td>88.639265</td>\n",
       "      <td>69.624713</td>\n",
       "    </tr>\n",
       "  </tbody>\n",
       "</table>\n",
       "</div>"
      ],
      "text/plain": [
       "   Total Schools Total Students    Total Budget Average Math Score  \\\n",
       "0             15         39,170  $24,649,428.00          78.985371   \n",
       "\n",
       "  Average Reading Score % Passing Math % Passing Reading % Overall Passing  \n",
       "0              81.87784      77.513403         88.639265         69.624713  "
      ]
     },
     "execution_count": 36,
     "metadata": {},
     "output_type": "execute_result"
    }
   ],
   "source": [
    "district_summary = pd.DataFrame({\n",
    "   \"Total Schools\": total_uniques_school ,\n",
    "    \"Total Students\": f\"{total_number_students:,}\",\n",
    "    \"Total Budget\": f\"${total_number_budget:,.2f}\",\n",
    "    \"Average Math Score\": f\"{average_math_score:.6f}\",\n",
    "    \"Average Reading Score\": f\"{average_reading_score:.5f}\",\n",
    "    \"% Passing Math\": f\"{percentage_passing2:.6f}\",\n",
    "    \"% Passing Reading\": f\"{percentage_passing:.6f}\",\n",
    "    \"% Overall Passing\": f\"{overall_passing_student: .6f}\"\n",
    "}, index=[0])\n",
    "district_summary"
   ]
  },
  {
   "cell_type": "code",
   "execution_count": 37,
   "metadata": {},
   "outputs": [
    {
     "data": {
      "text/plain": [
       "<pandas.core.groupby.generic.DataFrameGroupBy object at 0x7ff18f85b580>"
      ]
     },
     "execution_count": 37,
     "metadata": {},
     "output_type": "execute_result"
    }
   ],
   "source": [
    "school_name = school_data_finished.set_index('school_name').groupby(['school_name'])\n",
    "school_name"
   ]
  },
  {
   "cell_type": "code",
   "execution_count": 38,
   "metadata": {},
   "outputs": [
    {
     "data": {
      "text/plain": [
       "39170"
      ]
     },
     "execution_count": 38,
     "metadata": {},
     "output_type": "execute_result"
    }
   ],
   "source": [
    "school_ids=school_data_finished['School ID'].count()\n",
    "school_ids"
   ]
  },
  {
   "cell_type": "code",
   "execution_count": 39,
   "metadata": {},
   "outputs": [],
   "source": [
    "school_type=school_data_finished.set_index('school_name')['type']"
   ]
  },
  {
   "cell_type": "code",
   "execution_count": 40,
   "metadata": {},
   "outputs": [
    {
     "data": {
      "text/plain": [
       "school_name\n",
       "Huang High School     1910635\n",
       "Huang High School     1910635\n",
       "Huang High School     1910635\n",
       "Huang High School     1910635\n",
       "Huang High School     1910635\n",
       "                       ...   \n",
       "Thomas High School    1043130\n",
       "Thomas High School    1043130\n",
       "Thomas High School    1043130\n",
       "Thomas High School    1043130\n",
       "Thomas High School    1043130\n",
       "Name: budget, Length: 39170, dtype: int64"
      ]
     },
     "execution_count": 40,
     "metadata": {},
     "output_type": "execute_result"
    }
   ],
   "source": [
    "total_school_budget= school_data_finished.set_index('school_name')['budget']\n",
    "total_school_budget"
   ]
  },
  {
   "cell_type": "code",
   "execution_count": 41,
   "metadata": {},
   "outputs": [
    {
     "data": {
      "text/plain": [
       "Student ID\n",
       "0        655.0\n",
       "1        655.0\n",
       "2        655.0\n",
       "3        655.0\n",
       "4        655.0\n",
       "         ...  \n",
       "39165    638.0\n",
       "39166    638.0\n",
       "39167    638.0\n",
       "39168    638.0\n",
       "39169    638.0\n",
       "Length: 39170, dtype: float64"
      ]
     },
     "execution_count": 41,
     "metadata": {},
     "output_type": "execute_result"
    }
   ],
   "source": [
    "per_student=(school_data_finished.set_index('Student ID')['budget']/ school_data_finished.set_index('Student ID')['size'])\n",
    "per_student"
   ]
  },
  {
   "cell_type": "code",
   "execution_count": 42,
   "metadata": {},
   "outputs": [
    {
     "data": {
      "text/plain": [
       "78.98537145774827"
      ]
     },
     "execution_count": 42,
     "metadata": {},
     "output_type": "execute_result"
    }
   ],
   "source": [
    "average_math_score= school_data_finished['math_score'].mean()\n",
    "average_math_score"
   ]
  },
  {
   "cell_type": "code",
   "execution_count": 43,
   "metadata": {},
   "outputs": [
    {
     "data": {
      "text/plain": [
       "81.87784018381414"
      ]
     },
     "execution_count": 43,
     "metadata": {},
     "output_type": "execute_result"
    }
   ],
   "source": [
    "average_reading_score= school_data_finished['reading_score'].mean()\n",
    "average_reading_score"
   ]
  },
  {
   "cell_type": "code",
   "execution_count": 44,
   "metadata": {},
   "outputs": [
    {
     "data": {
      "text/plain": [
       "88.6392647434261"
      ]
     },
     "execution_count": 44,
     "metadata": {},
     "output_type": "execute_result"
    }
   ],
   "source": [
    "passing_reading= school_data_finished.loc[school_data_finished['reading_score']>=69]\n",
    "passing_reading_count= passing_reading['Student ID'].count()\n",
    "percentage_passing= (passing_reading_count/total_number_students)*100\n",
    "percentage_passing"
   ]
  },
  {
   "cell_type": "code",
   "execution_count": 45,
   "metadata": {},
   "outputs": [
    {
     "data": {
      "text/plain": [
       "77.51340311462855"
      ]
     },
     "execution_count": 45,
     "metadata": {},
     "output_type": "execute_result"
    }
   ],
   "source": [
    "passing_math= school_data_finished.loc[school_data_finished['math_score']>=69]\n",
    "passing_math_count= passing_math['Student ID'].count()\n",
    "percentage_passing2= (passing_math_count/total_number_students)*100\n",
    "percentage_passing2"
   ]
  },
  {
   "cell_type": "code",
   "execution_count": 46,
   "metadata": {},
   "outputs": [
    {
     "data": {
      "text/plain": [
       "<pandas.core.groupby.generic.SeriesGroupBy object at 0x7ff18eca5720>"
      ]
     },
     "execution_count": 46,
     "metadata": {},
     "output_type": "execute_result"
    }
   ],
   "source": [
    "overall_passing= school_data_finished[\n",
    "    (school_data_finished['math_score']>=69) & (school_data_finished['reading_score']>=69)\n",
    "].count()['student_name']\n",
    "overall_passing_student2= school_data_finished.groupby('school_name')['size']\n",
    "overall_passing_student2"
   ]
  },
  {
   "cell_type": "code",
   "execution_count": 47,
   "metadata": {},
   "outputs": [
    {
     "ename": "ValueError",
     "evalue": "array length 15 does not match index length 78340",
     "output_type": "error",
     "traceback": [
      "\u001b[0;31m---------------------------------------------------------------------------\u001b[0m",
      "\u001b[0;31mValueError\u001b[0m                                Traceback (most recent call last)",
      "Cell \u001b[0;32mIn[47], line 1\u001b[0m\n\u001b[0;32m----> 1\u001b[0m school_summary \u001b[38;5;241m=\u001b[39m \u001b[43mpd\u001b[49m\u001b[38;5;241;43m.\u001b[39;49m\u001b[43mDataFrame\u001b[49m\u001b[43m(\u001b[49m\u001b[43m{\u001b[49m\u001b[38;5;124;43m\"\u001b[39;49m\u001b[38;5;124;43mSchool Type\u001b[39;49m\u001b[38;5;124;43m\"\u001b[39;49m\u001b[43m:\u001b[49m\u001b[43m \u001b[49m\u001b[43mschool_type\u001b[49m\u001b[43m,\u001b[49m\n\u001b[1;32m      2\u001b[0m \u001b[43m                                \u001b[49m\u001b[38;5;124;43m\"\u001b[39;49m\u001b[38;5;124;43mTotal Students\u001b[39;49m\u001b[38;5;124;43m\"\u001b[39;49m\u001b[43m:\u001b[49m\u001b[43m \u001b[49m\u001b[43mschool_ids\u001b[49m\u001b[43m,\u001b[49m\n\u001b[1;32m      3\u001b[0m \u001b[43m                                \u001b[49m\u001b[38;5;124;43m\"\u001b[39;49m\u001b[38;5;124;43mPer Student Budget\u001b[39;49m\u001b[38;5;124;43m\"\u001b[39;49m\u001b[43m:\u001b[49m\u001b[43m \u001b[49m\u001b[43mper_student\u001b[49m\u001b[43m,\u001b[49m\n\u001b[1;32m      4\u001b[0m \u001b[43m                                \u001b[49m\u001b[38;5;124;43m\"\u001b[39;49m\u001b[38;5;124;43mTotal School Budget\u001b[39;49m\u001b[38;5;124;43m\"\u001b[39;49m\u001b[43m:\u001b[49m\u001b[43m \u001b[49m\u001b[43mtotal_school_budget\u001b[49m\u001b[43m,\u001b[49m\n\u001b[1;32m      5\u001b[0m \u001b[43m                                \u001b[49m\u001b[38;5;124;43m\"\u001b[39;49m\u001b[38;5;124;43mAverage Math Score\u001b[39;49m\u001b[38;5;124;43m\"\u001b[39;49m\u001b[43m:\u001b[49m\u001b[43m \u001b[49m\u001b[43maverage_math_score\u001b[49m\u001b[43m,\u001b[49m\n\u001b[1;32m      6\u001b[0m \u001b[43m                                \u001b[49m\u001b[38;5;124;43m\"\u001b[39;49m\u001b[38;5;124;43mAverage Reading Score\u001b[39;49m\u001b[38;5;124;43m\"\u001b[39;49m\u001b[43m:\u001b[49m\u001b[43m \u001b[49m\u001b[43maverage_reading_score\u001b[49m\u001b[43m,\u001b[49m\n\u001b[1;32m      7\u001b[0m \u001b[43m                                \u001b[49m\u001b[38;5;124;43m\"\u001b[39;49m\u001b[38;5;124;43m%\u001b[39;49m\u001b[38;5;124;43m Passing Math\u001b[39;49m\u001b[38;5;124;43m\"\u001b[39;49m\u001b[43m:\u001b[49m\u001b[43m \u001b[49m\u001b[43mpercentage_passing2\u001b[49m\u001b[43m,\u001b[49m\n\u001b[1;32m      8\u001b[0m \u001b[43m                                \u001b[49m\u001b[38;5;124;43m\"\u001b[39;49m\u001b[38;5;124;43m%\u001b[39;49m\u001b[38;5;124;43m Passing Reading\u001b[39;49m\u001b[38;5;124;43m\"\u001b[39;49m\u001b[43m:\u001b[49m\u001b[43m \u001b[49m\u001b[43mpercentage_passing\u001b[49m\u001b[43m,\u001b[49m\n\u001b[1;32m      9\u001b[0m \u001b[43m                                \u001b[49m\u001b[38;5;124;43m\"\u001b[39;49m\u001b[38;5;124;43m%\u001b[39;49m\u001b[38;5;124;43m Overall Passing\u001b[39;49m\u001b[38;5;124;43m\"\u001b[39;49m\u001b[43m:\u001b[49m\u001b[43m \u001b[49m\u001b[43moverall_passing_student2\u001b[49m\n\u001b[1;32m     10\u001b[0m \u001b[43m}\u001b[49m\u001b[43m)\u001b[49m\n\u001b[1;32m     12\u001b[0m \u001b[38;5;66;03m# Formatting\u001b[39;00m\n\u001b[1;32m     13\u001b[0m school_summary[\u001b[38;5;124m\"\u001b[39m\u001b[38;5;124mSchool Type\u001b[39m\u001b[38;5;124m\"\u001b[39m] \u001b[38;5;241m=\u001b[39m school_summary[\u001b[38;5;124m\"\u001b[39m\u001b[38;5;124mSchool Type\u001b[39m\u001b[38;5;124m\"\u001b[39m]\u001b[38;5;241m.\u001b[39mmap(\u001b[38;5;124m\"\u001b[39m\u001b[38;5;124m$\u001b[39m\u001b[38;5;132;01m{:,.2f}\u001b[39;00m\u001b[38;5;124m\"\u001b[39m\u001b[38;5;241m.\u001b[39mformat)\n",
      "File \u001b[0;32m~/anaconda3/envs/dev/lib/python3.10/site-packages/pandas/core/frame.py:664\u001b[0m, in \u001b[0;36mDataFrame.__init__\u001b[0;34m(self, data, index, columns, dtype, copy)\u001b[0m\n\u001b[1;32m    658\u001b[0m     mgr \u001b[38;5;241m=\u001b[39m \u001b[38;5;28mself\u001b[39m\u001b[38;5;241m.\u001b[39m_init_mgr(\n\u001b[1;32m    659\u001b[0m         data, axes\u001b[38;5;241m=\u001b[39m{\u001b[38;5;124m\"\u001b[39m\u001b[38;5;124mindex\u001b[39m\u001b[38;5;124m\"\u001b[39m: index, \u001b[38;5;124m\"\u001b[39m\u001b[38;5;124mcolumns\u001b[39m\u001b[38;5;124m\"\u001b[39m: columns}, dtype\u001b[38;5;241m=\u001b[39mdtype, copy\u001b[38;5;241m=\u001b[39mcopy\n\u001b[1;32m    660\u001b[0m     )\n\u001b[1;32m    662\u001b[0m \u001b[38;5;28;01melif\u001b[39;00m \u001b[38;5;28misinstance\u001b[39m(data, \u001b[38;5;28mdict\u001b[39m):\n\u001b[1;32m    663\u001b[0m     \u001b[38;5;66;03m# GH#38939 de facto copy defaults to False only in non-dict cases\u001b[39;00m\n\u001b[0;32m--> 664\u001b[0m     mgr \u001b[38;5;241m=\u001b[39m \u001b[43mdict_to_mgr\u001b[49m\u001b[43m(\u001b[49m\u001b[43mdata\u001b[49m\u001b[43m,\u001b[49m\u001b[43m \u001b[49m\u001b[43mindex\u001b[49m\u001b[43m,\u001b[49m\u001b[43m \u001b[49m\u001b[43mcolumns\u001b[49m\u001b[43m,\u001b[49m\u001b[43m \u001b[49m\u001b[43mdtype\u001b[49m\u001b[38;5;241;43m=\u001b[39;49m\u001b[43mdtype\u001b[49m\u001b[43m,\u001b[49m\u001b[43m \u001b[49m\u001b[43mcopy\u001b[49m\u001b[38;5;241;43m=\u001b[39;49m\u001b[43mcopy\u001b[49m\u001b[43m,\u001b[49m\u001b[43m \u001b[49m\u001b[43mtyp\u001b[49m\u001b[38;5;241;43m=\u001b[39;49m\u001b[43mmanager\u001b[49m\u001b[43m)\u001b[49m\n\u001b[1;32m    665\u001b[0m \u001b[38;5;28;01melif\u001b[39;00m \u001b[38;5;28misinstance\u001b[39m(data, ma\u001b[38;5;241m.\u001b[39mMaskedArray):\n\u001b[1;32m    666\u001b[0m     \u001b[38;5;28;01mimport\u001b[39;00m \u001b[38;5;21;01mnumpy\u001b[39;00m\u001b[38;5;21;01m.\u001b[39;00m\u001b[38;5;21;01mma\u001b[39;00m\u001b[38;5;21;01m.\u001b[39;00m\u001b[38;5;21;01mmrecords\u001b[39;00m \u001b[38;5;28;01mas\u001b[39;00m \u001b[38;5;21;01mmrecords\u001b[39;00m\n",
      "File \u001b[0;32m~/anaconda3/envs/dev/lib/python3.10/site-packages/pandas/core/internals/construction.py:493\u001b[0m, in \u001b[0;36mdict_to_mgr\u001b[0;34m(data, index, columns, dtype, typ, copy)\u001b[0m\n\u001b[1;32m    489\u001b[0m     \u001b[38;5;28;01melse\u001b[39;00m:\n\u001b[1;32m    490\u001b[0m         \u001b[38;5;66;03m# dtype check to exclude e.g. range objects, scalars\u001b[39;00m\n\u001b[1;32m    491\u001b[0m         arrays \u001b[38;5;241m=\u001b[39m [x\u001b[38;5;241m.\u001b[39mcopy() \u001b[38;5;28;01mif\u001b[39;00m \u001b[38;5;28mhasattr\u001b[39m(x, \u001b[38;5;124m\"\u001b[39m\u001b[38;5;124mdtype\u001b[39m\u001b[38;5;124m\"\u001b[39m) \u001b[38;5;28;01melse\u001b[39;00m x \u001b[38;5;28;01mfor\u001b[39;00m x \u001b[38;5;129;01min\u001b[39;00m arrays]\n\u001b[0;32m--> 493\u001b[0m \u001b[38;5;28;01mreturn\u001b[39;00m \u001b[43marrays_to_mgr\u001b[49m\u001b[43m(\u001b[49m\u001b[43marrays\u001b[49m\u001b[43m,\u001b[49m\u001b[43m \u001b[49m\u001b[43mcolumns\u001b[49m\u001b[43m,\u001b[49m\u001b[43m \u001b[49m\u001b[43mindex\u001b[49m\u001b[43m,\u001b[49m\u001b[43m \u001b[49m\u001b[43mdtype\u001b[49m\u001b[38;5;241;43m=\u001b[39;49m\u001b[43mdtype\u001b[49m\u001b[43m,\u001b[49m\u001b[43m \u001b[49m\u001b[43mtyp\u001b[49m\u001b[38;5;241;43m=\u001b[39;49m\u001b[43mtyp\u001b[49m\u001b[43m,\u001b[49m\u001b[43m \u001b[49m\u001b[43mconsolidate\u001b[49m\u001b[38;5;241;43m=\u001b[39;49m\u001b[43mcopy\u001b[49m\u001b[43m)\u001b[49m\n",
      "File \u001b[0;32m~/anaconda3/envs/dev/lib/python3.10/site-packages/pandas/core/internals/construction.py:118\u001b[0m, in \u001b[0;36marrays_to_mgr\u001b[0;34m(arrays, columns, index, dtype, verify_integrity, typ, consolidate)\u001b[0m\n\u001b[1;32m    115\u001b[0m \u001b[38;5;28;01mif\u001b[39;00m verify_integrity:\n\u001b[1;32m    116\u001b[0m     \u001b[38;5;66;03m# figure out the index, if necessary\u001b[39;00m\n\u001b[1;32m    117\u001b[0m     \u001b[38;5;28;01mif\u001b[39;00m index \u001b[38;5;129;01mis\u001b[39;00m \u001b[38;5;28;01mNone\u001b[39;00m:\n\u001b[0;32m--> 118\u001b[0m         index \u001b[38;5;241m=\u001b[39m \u001b[43m_extract_index\u001b[49m\u001b[43m(\u001b[49m\u001b[43marrays\u001b[49m\u001b[43m)\u001b[49m\n\u001b[1;32m    119\u001b[0m     \u001b[38;5;28;01melse\u001b[39;00m:\n\u001b[1;32m    120\u001b[0m         index \u001b[38;5;241m=\u001b[39m ensure_index(index)\n",
      "File \u001b[0;32m~/anaconda3/envs/dev/lib/python3.10/site-packages/pandas/core/internals/construction.py:680\u001b[0m, in \u001b[0;36m_extract_index\u001b[0;34m(data)\u001b[0m\n\u001b[1;32m    675\u001b[0m     \u001b[38;5;28;01mif\u001b[39;00m lengths[\u001b[38;5;241m0\u001b[39m] \u001b[38;5;241m!=\u001b[39m \u001b[38;5;28mlen\u001b[39m(index):\n\u001b[1;32m    676\u001b[0m         msg \u001b[38;5;241m=\u001b[39m (\n\u001b[1;32m    677\u001b[0m             \u001b[38;5;124mf\u001b[39m\u001b[38;5;124m\"\u001b[39m\u001b[38;5;124marray length \u001b[39m\u001b[38;5;132;01m{\u001b[39;00mlengths[\u001b[38;5;241m0\u001b[39m]\u001b[38;5;132;01m}\u001b[39;00m\u001b[38;5;124m does not match index \u001b[39m\u001b[38;5;124m\"\u001b[39m\n\u001b[1;32m    678\u001b[0m             \u001b[38;5;124mf\u001b[39m\u001b[38;5;124m\"\u001b[39m\u001b[38;5;124mlength \u001b[39m\u001b[38;5;132;01m{\u001b[39;00m\u001b[38;5;28mlen\u001b[39m(index)\u001b[38;5;132;01m}\u001b[39;00m\u001b[38;5;124m\"\u001b[39m\n\u001b[1;32m    679\u001b[0m         )\n\u001b[0;32m--> 680\u001b[0m         \u001b[38;5;28;01mraise\u001b[39;00m \u001b[38;5;167;01mValueError\u001b[39;00m(msg)\n\u001b[1;32m    681\u001b[0m \u001b[38;5;28;01melse\u001b[39;00m:\n\u001b[1;32m    682\u001b[0m     index \u001b[38;5;241m=\u001b[39m default_index(lengths[\u001b[38;5;241m0\u001b[39m])\n",
      "\u001b[0;31mValueError\u001b[0m: array length 15 does not match index length 78340"
     ]
    }
   ],
   "source": [
    "school_summary = pd.DataFrame({\"School Type\": school_type,\n",
    "                                \"Total Students\": school_ids,\n",
    "                                \"Per Student Budget\": per_student,\n",
    "                                \"Total School Budget\": total_school_budget,\n",
    "                                \"Average Math Score\": average_math_score,\n",
    "                                \"Average Reading Score\": average_reading_score,\n",
    "                                \"% Passing Math\": percentage_passing2,\n",
    "                                \"% Passing Reading\": percentage_passing,\n",
    "                                \"% Overall Passing\": overall_passing_student2\n",
    "})\n",
    "\n",
    "# Formatting\n",
    "school_summary[\"School Type\"] = school_summary[\"School Type\"].map(\"${:,.2f}\".format)\n",
    "school_summary[\"Total Students\"] = school_summary[\"Total Students\"].map(\"${:,.2f}\".format)\n",
    "school_summary[\"Total School Budget\"] = school_summary[\"Total School Budget\"].map(\"${:,.2f}\".format)\n",
    "school_summary[\"Per Student Budget\"] = school_summary[\"Per Student Budget\"].map(\"${:,.2f}\".format)\n",
    "school_summary[ \"Average Math Score\"] = school_summary[ \"Average Math Score\"].map(\"${:,.2f}\".format)\n",
    "school_summary[\"Average Reading Score\"] = school_summary[\"Average Reading Score\"].map(\"${:,.2f}\".format)\n",
    "school_summary[\"% Passing Math\"] = school_summary[\"% Passing Math\"].map(\"${:,.2f}\".format)\n",
    "school_summary[\"% Passing Reading\"] = school_summary[\"% Passing Reading\"].map(\"${:,.2f}\".format)\n",
    "school_summary[\"% Overall Passing\"] = school_summary[\"% Overall Passing\"].map(\"${:,.2f}\".format)\n",
    "\n",
    "\n",
    "\n",
    "# Display the DataFrame\n",
    "school_summary\n",
    "\n",
    "\n",
    "\n"
   ]
  },
  {
   "cell_type": "code",
   "execution_count": 48,
   "metadata": {},
   "outputs": [
    {
     "ename": "NameError",
     "evalue": "name 'school_summary' is not defined",
     "output_type": "error",
     "traceback": [
      "\u001b[0;31m---------------------------------------------------------------------------\u001b[0m",
      "\u001b[0;31mNameError\u001b[0m                                 Traceback (most recent call last)",
      "Cell \u001b[0;32mIn[48], line 1\u001b[0m\n\u001b[0;32m----> 1\u001b[0m top_schools\u001b[38;5;241m=\u001b[39m \u001b[43mschool_summary\u001b[49m\u001b[38;5;241m.\u001b[39msort_values(\u001b[38;5;124m\"\u001b[39m\u001b[38;5;124m%\u001b[39m\u001b[38;5;124m Overall Passing\u001b[39m\u001b[38;5;124m\"\u001b[39m, ascending\u001b[38;5;241m=\u001b[39m \u001b[38;5;28;01mFalse\u001b[39;00m)\n",
      "\u001b[0;31mNameError\u001b[0m: name 'school_summary' is not defined"
     ]
    }
   ],
   "source": [
    "top_schools= school_summary.sort_values(\"% Overall Passing\", ascending= False)"
   ]
  },
  {
   "cell_type": "code",
   "execution_count": 49,
   "metadata": {},
   "outputs": [
    {
     "data": {
      "text/html": [
       "<style type=\"text/css\">\n",
       "</style>\n",
       "<table id=\"T_0e854\">\n",
       "  <thead>\n",
       "    <tr>\n",
       "      <th class=\"blank level0\" >&nbsp;</th>\n",
       "      <th id=\"T_0e854_level0_col0\" class=\"col_heading level0 col0\" >9th</th>\n",
       "      <th id=\"T_0e854_level0_col1\" class=\"col_heading level0 col1\" >10th</th>\n",
       "      <th id=\"T_0e854_level0_col2\" class=\"col_heading level0 col2\" >11th</th>\n",
       "      <th id=\"T_0e854_level0_col3\" class=\"col_heading level0 col3\" >12th</th>\n",
       "    </tr>\n",
       "    <tr>\n",
       "      <th class=\"index_name level0\" >School Name</th>\n",
       "      <th class=\"blank col0\" >&nbsp;</th>\n",
       "      <th class=\"blank col1\" >&nbsp;</th>\n",
       "      <th class=\"blank col2\" >&nbsp;</th>\n",
       "      <th class=\"blank col3\" >&nbsp;</th>\n",
       "    </tr>\n",
       "  </thead>\n",
       "  <tbody>\n",
       "    <tr>\n",
       "      <th id=\"T_0e854_level0_row0\" class=\"row_heading level0 row0\" >Bailey High School</th>\n",
       "      <td id=\"T_0e854_row0_col0\" class=\"data row0 col0\" >77.083676</td>\n",
       "      <td id=\"T_0e854_row0_col1\" class=\"data row0 col1\" >76.996772</td>\n",
       "      <td id=\"T_0e854_row0_col2\" class=\"data row0 col2\" >77.515588</td>\n",
       "      <td id=\"T_0e854_row0_col3\" class=\"data row0 col3\" >76.492218</td>\n",
       "    </tr>\n",
       "    <tr>\n",
       "      <th id=\"T_0e854_level0_row1\" class=\"row_heading level0 row1\" >Cabrera High School</th>\n",
       "      <td id=\"T_0e854_row1_col0\" class=\"data row1 col0\" >83.094697</td>\n",
       "      <td id=\"T_0e854_row1_col1\" class=\"data row1 col1\" >83.154506</td>\n",
       "      <td id=\"T_0e854_row1_col2\" class=\"data row1 col2\" >82.765560</td>\n",
       "      <td id=\"T_0e854_row1_col3\" class=\"data row1 col3\" >83.277487</td>\n",
       "    </tr>\n",
       "    <tr>\n",
       "      <th id=\"T_0e854_level0_row2\" class=\"row_heading level0 row2\" >Figueroa High School</th>\n",
       "      <td id=\"T_0e854_row2_col0\" class=\"data row2 col0\" >76.403037</td>\n",
       "      <td id=\"T_0e854_row2_col1\" class=\"data row2 col1\" >76.539974</td>\n",
       "      <td id=\"T_0e854_row2_col2\" class=\"data row2 col2\" >76.884344</td>\n",
       "      <td id=\"T_0e854_row2_col3\" class=\"data row2 col3\" >77.151369</td>\n",
       "    </tr>\n",
       "    <tr>\n",
       "      <th id=\"T_0e854_level0_row3\" class=\"row_heading level0 row3\" >Ford High School</th>\n",
       "      <td id=\"T_0e854_row3_col0\" class=\"data row3 col0\" >77.361345</td>\n",
       "      <td id=\"T_0e854_row3_col1\" class=\"data row3 col1\" >77.672316</td>\n",
       "      <td id=\"T_0e854_row3_col2\" class=\"data row3 col2\" >76.918058</td>\n",
       "      <td id=\"T_0e854_row3_col3\" class=\"data row3 col3\" >76.179963</td>\n",
       "    </tr>\n",
       "    <tr>\n",
       "      <th id=\"T_0e854_level0_row4\" class=\"row_heading level0 row4\" >Griffin High School</th>\n",
       "      <td id=\"T_0e854_row4_col0\" class=\"data row4 col0\" >82.044010</td>\n",
       "      <td id=\"T_0e854_row4_col1\" class=\"data row4 col1\" >84.229064</td>\n",
       "      <td id=\"T_0e854_row4_col2\" class=\"data row4 col2\" >83.842105</td>\n",
       "      <td id=\"T_0e854_row4_col3\" class=\"data row4 col3\" >83.356164</td>\n",
       "    </tr>\n",
       "    <tr>\n",
       "      <th id=\"T_0e854_level0_row5\" class=\"row_heading level0 row5\" >Hernandez High School</th>\n",
       "      <td id=\"T_0e854_row5_col0\" class=\"data row5 col0\" >77.438495</td>\n",
       "      <td id=\"T_0e854_row5_col1\" class=\"data row5 col1\" >77.337408</td>\n",
       "      <td id=\"T_0e854_row5_col2\" class=\"data row5 col2\" >77.136029</td>\n",
       "      <td id=\"T_0e854_row5_col3\" class=\"data row5 col3\" >77.186567</td>\n",
       "    </tr>\n",
       "    <tr>\n",
       "      <th id=\"T_0e854_level0_row6\" class=\"row_heading level0 row6\" >Holden High School</th>\n",
       "      <td id=\"T_0e854_row6_col0\" class=\"data row6 col0\" >83.787402</td>\n",
       "      <td id=\"T_0e854_row6_col1\" class=\"data row6 col1\" >83.429825</td>\n",
       "      <td id=\"T_0e854_row6_col2\" class=\"data row6 col2\" >85.000000</td>\n",
       "      <td id=\"T_0e854_row6_col3\" class=\"data row6 col3\" >82.855422</td>\n",
       "    </tr>\n",
       "    <tr>\n",
       "      <th id=\"T_0e854_level0_row7\" class=\"row_heading level0 row7\" >Huang High School</th>\n",
       "      <td id=\"T_0e854_row7_col0\" class=\"data row7 col0\" >77.027251</td>\n",
       "      <td id=\"T_0e854_row7_col1\" class=\"data row7 col1\" >75.908735</td>\n",
       "      <td id=\"T_0e854_row7_col2\" class=\"data row7 col2\" >76.446602</td>\n",
       "      <td id=\"T_0e854_row7_col3\" class=\"data row7 col3\" >77.225641</td>\n",
       "    </tr>\n",
       "    <tr>\n",
       "      <th id=\"T_0e854_level0_row8\" class=\"row_heading level0 row8\" >Johnson High School</th>\n",
       "      <td id=\"T_0e854_row8_col0\" class=\"data row8 col0\" >77.187857</td>\n",
       "      <td id=\"T_0e854_row8_col1\" class=\"data row8 col1\" >76.691117</td>\n",
       "      <td id=\"T_0e854_row8_col2\" class=\"data row8 col2\" >77.491653</td>\n",
       "      <td id=\"T_0e854_row8_col3\" class=\"data row8 col3\" >76.863248</td>\n",
       "    </tr>\n",
       "    <tr>\n",
       "      <th id=\"T_0e854_level0_row9\" class=\"row_heading level0 row9\" >Pena High School</th>\n",
       "      <td id=\"T_0e854_row9_col0\" class=\"data row9 col0\" >83.625455</td>\n",
       "      <td id=\"T_0e854_row9_col1\" class=\"data row9 col1\" >83.372000</td>\n",
       "      <td id=\"T_0e854_row9_col2\" class=\"data row9 col2\" >84.328125</td>\n",
       "      <td id=\"T_0e854_row9_col3\" class=\"data row9 col3\" >84.121547</td>\n",
       "    </tr>\n",
       "    <tr>\n",
       "      <th id=\"T_0e854_level0_row10\" class=\"row_heading level0 row10\" >Rodriguez High School</th>\n",
       "      <td id=\"T_0e854_row10_col0\" class=\"data row10 col0\" >76.859966</td>\n",
       "      <td id=\"T_0e854_row10_col1\" class=\"data row10 col1\" >76.612500</td>\n",
       "      <td id=\"T_0e854_row10_col2\" class=\"data row10 col2\" >76.395626</td>\n",
       "      <td id=\"T_0e854_row10_col3\" class=\"data row10 col3\" >77.690748</td>\n",
       "    </tr>\n",
       "    <tr>\n",
       "      <th id=\"T_0e854_level0_row11\" class=\"row_heading level0 row11\" >Shelton High School</th>\n",
       "      <td id=\"T_0e854_row11_col0\" class=\"data row11 col0\" >83.420755</td>\n",
       "      <td id=\"T_0e854_row11_col1\" class=\"data row11 col1\" >82.917411</td>\n",
       "      <td id=\"T_0e854_row11_col2\" class=\"data row11 col2\" >83.383495</td>\n",
       "      <td id=\"T_0e854_row11_col3\" class=\"data row11 col3\" >83.778976</td>\n",
       "    </tr>\n",
       "    <tr>\n",
       "      <th id=\"T_0e854_level0_row12\" class=\"row_heading level0 row12\" >Thomas High School</th>\n",
       "      <td id=\"T_0e854_row12_col0\" class=\"data row12 col0\" >83.590022</td>\n",
       "      <td id=\"T_0e854_row12_col1\" class=\"data row12 col1\" >83.087886</td>\n",
       "      <td id=\"T_0e854_row12_col2\" class=\"data row12 col2\" >83.498795</td>\n",
       "      <td id=\"T_0e854_row12_col3\" class=\"data row12 col3\" >83.497041</td>\n",
       "    </tr>\n",
       "    <tr>\n",
       "      <th id=\"T_0e854_level0_row13\" class=\"row_heading level0 row13\" >Wilson High School</th>\n",
       "      <td id=\"T_0e854_row13_col0\" class=\"data row13 col0\" >83.085578</td>\n",
       "      <td id=\"T_0e854_row13_col1\" class=\"data row13 col1\" >83.724422</td>\n",
       "      <td id=\"T_0e854_row13_col2\" class=\"data row13 col2\" >83.195326</td>\n",
       "      <td id=\"T_0e854_row13_col3\" class=\"data row13 col3\" >83.035794</td>\n",
       "    </tr>\n",
       "    <tr>\n",
       "      <th id=\"T_0e854_level0_row14\" class=\"row_heading level0 row14\" >Wright High School</th>\n",
       "      <td id=\"T_0e854_row14_col0\" class=\"data row14 col0\" >83.264706</td>\n",
       "      <td id=\"T_0e854_row14_col1\" class=\"data row14 col1\" >84.010288</td>\n",
       "      <td id=\"T_0e854_row14_col2\" class=\"data row14 col2\" >83.836782</td>\n",
       "      <td id=\"T_0e854_row14_col3\" class=\"data row14 col3\" >83.644986</td>\n",
       "    </tr>\n",
       "  </tbody>\n",
       "</table>\n"
      ],
      "text/plain": [
       "<pandas.io.formats.style.Styler at 0x7ff18d78ca60>"
      ]
     },
     "execution_count": 49,
     "metadata": {},
     "output_type": "execute_result"
    }
   ],
   "source": [
    "ninth_grade_math = student_data_df.loc[student_data_df['grade'] == '9th'].groupby('school_name')[\"math_score\"].mean()\n",
    "tenth_grade_math = student_data_df.loc[student_data_df['grade'] == '10th'].groupby('school_name')[\"math_score\"].mean()\n",
    "eleventh_grade_math = student_data_df.loc[student_data_df['grade'] == '11th'].groupby('school_name')[\"math_score\"].mean()\n",
    "twelfth_grade_math = student_data_df.loc[student_data_df['grade'] == '12th'].groupby('school_name')[\"math_score\"].mean()\n",
    "\n",
    "math_scores = pd.DataFrame({\n",
    "        \"9th\": ninth_grade_math,\n",
    "        \"10th\": tenth_grade_math,\n",
    "        \"11th\": eleventh_grade_math,\n",
    "        \"12th\": twelfth_grade_math\n",
    "})\n",
    "math_scores = math_scores[['9th', '10th', '11th', '12th']]\n",
    "math_scores.index.name = \"School Name\"\n",
    "\n",
    "#show and format\n",
    "math_scores.style.format({'9th': '{:.6f}', \n",
    "                          \"10th\": '{:.6f}', \n",
    "                          \"11th\": \"{:.6f}\", \n",
    "                          \"12th\": \"{:.6f}\"})"
   ]
  },
  {
   "cell_type": "code",
   "execution_count": 50,
   "metadata": {},
   "outputs": [
    {
     "data": {
      "text/html": [
       "<style type=\"text/css\">\n",
       "</style>\n",
       "<table id=\"T_6104c\">\n",
       "  <thead>\n",
       "    <tr>\n",
       "      <th class=\"blank level0\" >&nbsp;</th>\n",
       "      <th id=\"T_6104c_level0_col0\" class=\"col_heading level0 col0\" >9th</th>\n",
       "      <th id=\"T_6104c_level0_col1\" class=\"col_heading level0 col1\" >10th</th>\n",
       "      <th id=\"T_6104c_level0_col2\" class=\"col_heading level0 col2\" >11th</th>\n",
       "      <th id=\"T_6104c_level0_col3\" class=\"col_heading level0 col3\" >12th</th>\n",
       "    </tr>\n",
       "    <tr>\n",
       "      <th class=\"index_name level0\" >School Name</th>\n",
       "      <th class=\"blank col0\" >&nbsp;</th>\n",
       "      <th class=\"blank col1\" >&nbsp;</th>\n",
       "      <th class=\"blank col2\" >&nbsp;</th>\n",
       "      <th class=\"blank col3\" >&nbsp;</th>\n",
       "    </tr>\n",
       "  </thead>\n",
       "  <tbody>\n",
       "    <tr>\n",
       "      <th id=\"T_6104c_level0_row0\" class=\"row_heading level0 row0\" >Bailey High School</th>\n",
       "      <td id=\"T_6104c_row0_col0\" class=\"data row0 col0\" >81.303155</td>\n",
       "      <td id=\"T_6104c_row0_col1\" class=\"data row0 col1\" >80.907183</td>\n",
       "      <td id=\"T_6104c_row0_col2\" class=\"data row0 col2\" >80.945643</td>\n",
       "      <td id=\"T_6104c_row0_col3\" class=\"data row0 col3\" >80.912451</td>\n",
       "    </tr>\n",
       "    <tr>\n",
       "      <th id=\"T_6104c_level0_row1\" class=\"row_heading level0 row1\" >Cabrera High School</th>\n",
       "      <td id=\"T_6104c_row1_col0\" class=\"data row1 col0\" >83.676136</td>\n",
       "      <td id=\"T_6104c_row1_col1\" class=\"data row1 col1\" >84.253219</td>\n",
       "      <td id=\"T_6104c_row1_col2\" class=\"data row1 col2\" >83.788382</td>\n",
       "      <td id=\"T_6104c_row1_col3\" class=\"data row1 col3\" >84.287958</td>\n",
       "    </tr>\n",
       "    <tr>\n",
       "      <th id=\"T_6104c_level0_row2\" class=\"row_heading level0 row2\" >Figueroa High School</th>\n",
       "      <td id=\"T_6104c_row2_col0\" class=\"data row2 col0\" >81.198598</td>\n",
       "      <td id=\"T_6104c_row2_col1\" class=\"data row2 col1\" >81.408912</td>\n",
       "      <td id=\"T_6104c_row2_col2\" class=\"data row2 col2\" >80.640339</td>\n",
       "      <td id=\"T_6104c_row2_col3\" class=\"data row2 col3\" >81.384863</td>\n",
       "    </tr>\n",
       "    <tr>\n",
       "      <th id=\"T_6104c_level0_row3\" class=\"row_heading level0 row3\" >Ford High School</th>\n",
       "      <td id=\"T_6104c_row3_col0\" class=\"data row3 col0\" >80.632653</td>\n",
       "      <td id=\"T_6104c_row3_col1\" class=\"data row3 col1\" >81.262712</td>\n",
       "      <td id=\"T_6104c_row3_col2\" class=\"data row3 col2\" >80.403642</td>\n",
       "      <td id=\"T_6104c_row3_col3\" class=\"data row3 col3\" >80.662338</td>\n",
       "    </tr>\n",
       "    <tr>\n",
       "      <th id=\"T_6104c_level0_row4\" class=\"row_heading level0 row4\" >Griffin High School</th>\n",
       "      <td id=\"T_6104c_row4_col0\" class=\"data row4 col0\" >83.369193</td>\n",
       "      <td id=\"T_6104c_row4_col1\" class=\"data row4 col1\" >83.706897</td>\n",
       "      <td id=\"T_6104c_row4_col2\" class=\"data row4 col2\" >84.288089</td>\n",
       "      <td id=\"T_6104c_row4_col3\" class=\"data row4 col3\" >84.013699</td>\n",
       "    </tr>\n",
       "    <tr>\n",
       "      <th id=\"T_6104c_level0_row5\" class=\"row_heading level0 row5\" >Hernandez High School</th>\n",
       "      <td id=\"T_6104c_row5_col0\" class=\"data row5 col0\" >80.866860</td>\n",
       "      <td id=\"T_6104c_row5_col1\" class=\"data row5 col1\" >80.660147</td>\n",
       "      <td id=\"T_6104c_row5_col2\" class=\"data row5 col2\" >81.396140</td>\n",
       "      <td id=\"T_6104c_row5_col3\" class=\"data row5 col3\" >80.857143</td>\n",
       "    </tr>\n",
       "    <tr>\n",
       "      <th id=\"T_6104c_level0_row6\" class=\"row_heading level0 row6\" >Holden High School</th>\n",
       "      <td id=\"T_6104c_row6_col0\" class=\"data row6 col0\" >83.677165</td>\n",
       "      <td id=\"T_6104c_row6_col1\" class=\"data row6 col1\" >83.324561</td>\n",
       "      <td id=\"T_6104c_row6_col2\" class=\"data row6 col2\" >83.815534</td>\n",
       "      <td id=\"T_6104c_row6_col3\" class=\"data row6 col3\" >84.698795</td>\n",
       "    </tr>\n",
       "    <tr>\n",
       "      <th id=\"T_6104c_level0_row7\" class=\"row_heading level0 row7\" >Huang High School</th>\n",
       "      <td id=\"T_6104c_row7_col0\" class=\"data row7 col0\" >81.290284</td>\n",
       "      <td id=\"T_6104c_row7_col1\" class=\"data row7 col1\" >81.512386</td>\n",
       "      <td id=\"T_6104c_row7_col2\" class=\"data row7 col2\" >81.417476</td>\n",
       "      <td id=\"T_6104c_row7_col3\" class=\"data row7 col3\" >80.305983</td>\n",
       "    </tr>\n",
       "    <tr>\n",
       "      <th id=\"T_6104c_level0_row8\" class=\"row_heading level0 row8\" >Johnson High School</th>\n",
       "      <td id=\"T_6104c_row8_col0\" class=\"data row8 col0\" >81.260714</td>\n",
       "      <td id=\"T_6104c_row8_col1\" class=\"data row8 col1\" >80.773431</td>\n",
       "      <td id=\"T_6104c_row8_col2\" class=\"data row8 col2\" >80.616027</td>\n",
       "      <td id=\"T_6104c_row8_col3\" class=\"data row8 col3\" >81.227564</td>\n",
       "    </tr>\n",
       "    <tr>\n",
       "      <th id=\"T_6104c_level0_row9\" class=\"row_heading level0 row9\" >Pena High School</th>\n",
       "      <td id=\"T_6104c_row9_col0\" class=\"data row9 col0\" >83.807273</td>\n",
       "      <td id=\"T_6104c_row9_col1\" class=\"data row9 col1\" >83.612000</td>\n",
       "      <td id=\"T_6104c_row9_col2\" class=\"data row9 col2\" >84.335938</td>\n",
       "      <td id=\"T_6104c_row9_col3\" class=\"data row9 col3\" >84.591160</td>\n",
       "    </tr>\n",
       "    <tr>\n",
       "      <th id=\"T_6104c_level0_row10\" class=\"row_heading level0 row10\" >Rodriguez High School</th>\n",
       "      <td id=\"T_6104c_row10_col0\" class=\"data row10 col0\" >80.993127</td>\n",
       "      <td id=\"T_6104c_row10_col1\" class=\"data row10 col1\" >80.629808</td>\n",
       "      <td id=\"T_6104c_row10_col2\" class=\"data row10 col2\" >80.864811</td>\n",
       "      <td id=\"T_6104c_row10_col3\" class=\"data row10 col3\" >80.376426</td>\n",
       "    </tr>\n",
       "    <tr>\n",
       "      <th id=\"T_6104c_level0_row11\" class=\"row_heading level0 row11\" >Shelton High School</th>\n",
       "      <td id=\"T_6104c_row11_col0\" class=\"data row11 col0\" >84.122642</td>\n",
       "      <td id=\"T_6104c_row11_col1\" class=\"data row11 col1\" >83.441964</td>\n",
       "      <td id=\"T_6104c_row11_col2\" class=\"data row11 col2\" >84.373786</td>\n",
       "      <td id=\"T_6104c_row11_col3\" class=\"data row11 col3\" >82.781671</td>\n",
       "    </tr>\n",
       "    <tr>\n",
       "      <th id=\"T_6104c_level0_row12\" class=\"row_heading level0 row12\" >Thomas High School</th>\n",
       "      <td id=\"T_6104c_row12_col0\" class=\"data row12 col0\" >83.728850</td>\n",
       "      <td id=\"T_6104c_row12_col1\" class=\"data row12 col1\" >84.254157</td>\n",
       "      <td id=\"T_6104c_row12_col2\" class=\"data row12 col2\" >83.585542</td>\n",
       "      <td id=\"T_6104c_row12_col3\" class=\"data row12 col3\" >83.831361</td>\n",
       "    </tr>\n",
       "    <tr>\n",
       "      <th id=\"T_6104c_level0_row13\" class=\"row_heading level0 row13\" >Wilson High School</th>\n",
       "      <td id=\"T_6104c_row13_col0\" class=\"data row13 col0\" >83.939778</td>\n",
       "      <td id=\"T_6104c_row13_col1\" class=\"data row13 col1\" >84.021452</td>\n",
       "      <td id=\"T_6104c_row13_col2\" class=\"data row13 col2\" >83.764608</td>\n",
       "      <td id=\"T_6104c_row13_col3\" class=\"data row13 col3\" >84.317673</td>\n",
       "    </tr>\n",
       "    <tr>\n",
       "      <th id=\"T_6104c_level0_row14\" class=\"row_heading level0 row14\" >Wright High School</th>\n",
       "      <td id=\"T_6104c_row14_col0\" class=\"data row14 col0\" >83.833333</td>\n",
       "      <td id=\"T_6104c_row14_col1\" class=\"data row14 col1\" >83.812757</td>\n",
       "      <td id=\"T_6104c_row14_col2\" class=\"data row14 col2\" >84.156322</td>\n",
       "      <td id=\"T_6104c_row14_col3\" class=\"data row14 col3\" >84.073171</td>\n",
       "    </tr>\n",
       "  </tbody>\n",
       "</table>\n"
      ],
      "text/plain": [
       "<pandas.io.formats.style.Styler at 0x7ff194be8ac0>"
      ]
     },
     "execution_count": 50,
     "metadata": {},
     "output_type": "execute_result"
    }
   ],
   "source": [
    "ninth_grade_reading = student_data_df.loc[student_data_df['grade'] == '9th'].groupby('school_name')[\"reading_score\"].mean()\n",
    "tenth_grade_reading = student_data_df.loc[student_data_df['grade'] == '10th'].groupby('school_name')[\"reading_score\"].mean()\n",
    "eleventh_grade_reading = student_data_df.loc[student_data_df['grade'] == '11th'].groupby('school_name')[\"reading_score\"].mean()\n",
    "twelfth_grade_reading = student_data_df.loc[student_data_df['grade'] == '12th'].groupby('school_name')[\"reading_score\"].mean()\n",
    "\n",
    "reading_scores = pd.DataFrame({\n",
    "        \"9th\": ninth_grade_reading,\n",
    "        \"10th\": tenth_grade_reading,\n",
    "        \"11th\": eleventh_grade_reading,\n",
    "        \"12th\": twelfth_grade_reading\n",
    "})\n",
    "reading_scores = reading_scores[['9th', '10th', '11th', '12th']]\n",
    "reading_scores.index.name = \"School Name\"\n",
    "\n",
    "#show and format\n",
    "reading_scores.style.format({'9th': '{:.6f}', \n",
    "                          \"10th\": '{:.6f}', \n",
    "                          \"11th\": \"{:.6f}\", \n",
    "                          \"12th\": \"{:.6f}\"})"
   ]
  },
  {
   "cell_type": "code",
   "execution_count": null,
   "metadata": {},
   "outputs": [],
   "source": []
  },
  {
   "cell_type": "code",
   "execution_count": 51,
   "metadata": {},
   "outputs": [],
   "source": [
    "spending_bins = [0, 585, 630, 645, 680]\n",
    "labels = [\"<$585\", \"$585-630\", \"$630-645\", \"$645-680\"]\n",
    "school_data_finished['spending_bins'] = pd.cut(school_data_finished['budget']/school_data_finished['size'], spending_bins, labels)\n",
    "school_spending =school_data_finished.groupby('spending_bins')"
   ]
  },
  {
   "cell_type": "code",
   "execution_count": 52,
   "metadata": {},
   "outputs": [],
   "source": [
    "aver_math_scores= school_spending['math_score'].mean()\n",
    "aver_reading_scores= school_spending['reading_score'].mean()\n"
   ]
  },
  {
   "cell_type": "code",
   "execution_count": 53,
   "metadata": {},
   "outputs": [],
   "source": [
    "pass_math = school_data_finished[school_data_finished['math_score'] >= 69].groupby('spending_bins')['Student ID'].count()/school_spending['Student ID'].count()*100\n",
    "pass_read = school_data_finished[school_data_finished['reading_score'] >= 69].groupby('spending_bins')['Student ID'].count()/school_spending['Student ID'].count()*100\n",
    "overall = school_data_finished[(school_data_finished['reading_score'] >= 69) & (school_data_finished['math_score'] >=69)].count()['Student ID']"
   ]
  },
  {
   "cell_type": "code",
   "execution_count": 54,
   "metadata": {},
   "outputs": [
    {
     "data": {
      "text/html": [
       "<style type=\"text/css\">\n",
       "</style>\n",
       "<table id=\"T_deff1\">\n",
       "  <thead>\n",
       "    <tr>\n",
       "      <th class=\"blank level0\" >&nbsp;</th>\n",
       "      <th id=\"T_deff1_level0_col0\" class=\"col_heading level0 col0\" >Average Math Score</th>\n",
       "      <th id=\"T_deff1_level0_col1\" class=\"col_heading level0 col1\" >Average Reading Score</th>\n",
       "      <th id=\"T_deff1_level0_col2\" class=\"col_heading level0 col2\" >% Passing Math</th>\n",
       "      <th id=\"T_deff1_level0_col3\" class=\"col_heading level0 col3\" >% Passing Reading</th>\n",
       "      <th id=\"T_deff1_level0_col4\" class=\"col_heading level0 col4\" >% Overall Passing</th>\n",
       "    </tr>\n",
       "    <tr>\n",
       "      <th class=\"index_name level0\" >Per Student Budget</th>\n",
       "      <th class=\"blank col0\" >&nbsp;</th>\n",
       "      <th class=\"blank col1\" >&nbsp;</th>\n",
       "      <th class=\"blank col2\" >&nbsp;</th>\n",
       "      <th class=\"blank col3\" >&nbsp;</th>\n",
       "      <th class=\"blank col4\" >&nbsp;</th>\n",
       "    </tr>\n",
       "  </thead>\n",
       "  <tbody>\n",
       "    <tr>\n",
       "      <th id=\"T_deff1_level0_row0\" class=\"row_heading level0 row0\" >(0, 585]</th>\n",
       "      <td id=\"T_deff1_row0_col0\" class=\"data row0 col0\" >83.36</td>\n",
       "      <td id=\"T_deff1_row0_col1\" class=\"data row0 col1\" >83.96</td>\n",
       "      <td id=\"T_deff1_row0_col2\" class=\"data row0 col2\" >96.83</td>\n",
       "      <td id=\"T_deff1_row0_col3\" class=\"data row0 col3\" >100.00</td>\n",
       "      <td id=\"T_deff1_row0_col4\" class=\"data row0 col4\" >27272.00</td>\n",
       "    </tr>\n",
       "    <tr>\n",
       "      <th id=\"T_deff1_level0_row1\" class=\"row_heading level0 row1\" >(585, 630]</th>\n",
       "      <td id=\"T_deff1_row1_col0\" class=\"data row1 col0\" >79.98</td>\n",
       "      <td id=\"T_deff1_row1_col1\" class=\"data row1 col1\" >82.31</td>\n",
       "      <td id=\"T_deff1_row1_col2\" class=\"data row1 col2\" >81.95</td>\n",
       "      <td id=\"T_deff1_row1_col3\" class=\"data row1 col3\" >91.60</td>\n",
       "      <td id=\"T_deff1_row1_col4\" class=\"data row1 col4\" >27272.00</td>\n",
       "    </tr>\n",
       "    <tr>\n",
       "      <th id=\"T_deff1_level0_row2\" class=\"row_heading level0 row2\" >(630, 645]</th>\n",
       "      <td id=\"T_deff1_row2_col0\" class=\"data row2 col0\" >77.82</td>\n",
       "      <td id=\"T_deff1_row2_col1\" class=\"data row2 col1\" >81.30</td>\n",
       "      <td id=\"T_deff1_row2_col2\" class=\"data row2 col2\" >72.90</td>\n",
       "      <td id=\"T_deff1_row2_col3\" class=\"data row2 col3\" >85.26</td>\n",
       "      <td id=\"T_deff1_row2_col4\" class=\"data row2 col4\" >27272.00</td>\n",
       "    </tr>\n",
       "    <tr>\n",
       "      <th id=\"T_deff1_level0_row3\" class=\"row_heading level0 row3\" >(645, 680]</th>\n",
       "      <td id=\"T_deff1_row3_col0\" class=\"data row3 col0\" >77.05</td>\n",
       "      <td id=\"T_deff1_row3_col1\" class=\"data row3 col1\" >81.01</td>\n",
       "      <td id=\"T_deff1_row3_col2\" class=\"data row3 col2\" >68.46</td>\n",
       "      <td id=\"T_deff1_row3_col3\" class=\"data row3 col3\" >83.67</td>\n",
       "      <td id=\"T_deff1_row3_col4\" class=\"data row3 col4\" >27272.00</td>\n",
       "    </tr>\n",
       "  </tbody>\n",
       "</table>\n"
      ],
      "text/plain": [
       "<pandas.io.formats.style.Styler at 0x7ff177cbebc0>"
      ]
     },
     "execution_count": 54,
     "metadata": {},
     "output_type": "execute_result"
    }
   ],
   "source": [
    "spending_summary = pd.DataFrame({\n",
    "    \"Average Math Score\": aver_math_scores,\n",
    "    \"Average Reading Score\": aver_reading_scores,\n",
    "    \"% Passing Math\": pass_math,\n",
    "    \"% Passing Reading\": pass_read,\n",
    "    \"% Overall Passing\": overall\n",
    "            \n",
    "})\n",
    "            \n",
    "#reorder columns\n",
    "spending_summary = spending_summary[[\n",
    "    \"Average Math Score\",\n",
    "    \"Average Reading Score\",\n",
    "    \"% Passing Math\",\n",
    "    \"% Passing Reading\",\n",
    "    \"% Overall Passing\"\n",
    "]]\n",
    "\n",
    "spending_summary.index.name = \"Per Student Budget\"\n",
    "\n",
    "\n",
    "#formating\n",
    "spending_summary.style.format({'Average Math Score': '{:.2f}', \n",
    "                              'Average Reading Score': '{:.2f}', \n",
    "                              '% Passing Math': '{:.2f}', \n",
    "                              '% Passing Reading':'{:.2f}', \n",
    "                              '% Overall Passing': '{:.2f}'})"
   ]
  },
  {
   "cell_type": "code",
   "execution_count": 55,
   "metadata": {},
   "outputs": [],
   "source": [
    "size_bins = [0, 1000, 2000, 5000]\n",
    "labels = [\"Small (<1000)\", \"Medium (1000-2000)\", \"Large (2000-5000)\"]"
   ]
  },
  {
   "cell_type": "code",
   "execution_count": 56,
   "metadata": {},
   "outputs": [],
   "source": [
    "school_data_finished['size_bins'] = pd.cut(school_data_finished['size'], size_bins, labels = labels)"
   ]
  },
  {
   "cell_type": "code",
   "execution_count": 57,
   "metadata": {},
   "outputs": [],
   "source": [
    "size = school_data_finished.groupby('size_bins')"
   ]
  },
  {
   "cell_type": "code",
   "execution_count": 58,
   "metadata": {},
   "outputs": [],
   "source": [
    "avera_math_score = size['math_score'].mean()\n",
    "avera_reading_score = size['reading_score'].mean()\n",
    "pass_math_percent = school_data_finished[school_data_finished['math_score'] >= 69].groupby('size_bins')['Student ID'].count()/size['Student ID'].count()*100\n",
    "pass_read_percent = school_data_finished[school_data_finished['reading_score'] >= 69].groupby('size_bins')['Student ID'].count()/size['Student ID'].count()*100\n",
    "overall = school_data_finished[(school_data_finished['reading_score'] >= 69) & (school_data_finished['math_score'] >= 69)].groupby('size_bins')['Student ID'].count()/size['Student ID'].count()*100\n"
   ]
  },
  {
   "cell_type": "code",
   "execution_count": 59,
   "metadata": {},
   "outputs": [
    {
     "data": {
      "text/html": [
       "<style type=\"text/css\">\n",
       "</style>\n",
       "<table id=\"T_ba40e\">\n",
       "  <thead>\n",
       "    <tr>\n",
       "      <th class=\"blank level0\" >&nbsp;</th>\n",
       "      <th id=\"T_ba40e_level0_col0\" class=\"col_heading level0 col0\" >Average Math Score</th>\n",
       "      <th id=\"T_ba40e_level0_col1\" class=\"col_heading level0 col1\" >Average Reading Score</th>\n",
       "      <th id=\"T_ba40e_level0_col2\" class=\"col_heading level0 col2\" >% Passing Math</th>\n",
       "      <th id=\"T_ba40e_level0_col3\" class=\"col_heading level0 col3\" >% Passing Reading</th>\n",
       "      <th id=\"T_ba40e_level0_col4\" class=\"col_heading level0 col4\" >% Overall Passing</th>\n",
       "    </tr>\n",
       "    <tr>\n",
       "      <th class=\"index_name level0\" >Per Student Budget</th>\n",
       "      <th class=\"blank col0\" >&nbsp;</th>\n",
       "      <th class=\"blank col1\" >&nbsp;</th>\n",
       "      <th class=\"blank col2\" >&nbsp;</th>\n",
       "      <th class=\"blank col3\" >&nbsp;</th>\n",
       "      <th class=\"blank col4\" >&nbsp;</th>\n",
       "    </tr>\n",
       "  </thead>\n",
       "  <tbody>\n",
       "    <tr>\n",
       "      <th id=\"T_ba40e_level0_row0\" class=\"row_heading level0 row0\" >(0, 585]</th>\n",
       "      <td id=\"T_ba40e_row0_col0\" class=\"data row0 col0\" >nan</td>\n",
       "      <td id=\"T_ba40e_row0_col1\" class=\"data row0 col1\" >nan</td>\n",
       "      <td id=\"T_ba40e_row0_col2\" class=\"data row0 col2\" >96.83</td>\n",
       "      <td id=\"T_ba40e_row0_col3\" class=\"data row0 col3\" >100.00</td>\n",
       "      <td id=\"T_ba40e_row0_col4\" class=\"data row0 col4\" >nan</td>\n",
       "    </tr>\n",
       "    <tr>\n",
       "      <th id=\"T_ba40e_level0_row1\" class=\"row_heading level0 row1\" >(585, 630]</th>\n",
       "      <td id=\"T_ba40e_row1_col0\" class=\"data row1 col0\" >nan</td>\n",
       "      <td id=\"T_ba40e_row1_col1\" class=\"data row1 col1\" >nan</td>\n",
       "      <td id=\"T_ba40e_row1_col2\" class=\"data row1 col2\" >81.95</td>\n",
       "      <td id=\"T_ba40e_row1_col3\" class=\"data row1 col3\" >91.60</td>\n",
       "      <td id=\"T_ba40e_row1_col4\" class=\"data row1 col4\" >nan</td>\n",
       "    </tr>\n",
       "    <tr>\n",
       "      <th id=\"T_ba40e_level0_row2\" class=\"row_heading level0 row2\" >(630, 645]</th>\n",
       "      <td id=\"T_ba40e_row2_col0\" class=\"data row2 col0\" >nan</td>\n",
       "      <td id=\"T_ba40e_row2_col1\" class=\"data row2 col1\" >nan</td>\n",
       "      <td id=\"T_ba40e_row2_col2\" class=\"data row2 col2\" >72.90</td>\n",
       "      <td id=\"T_ba40e_row2_col3\" class=\"data row2 col3\" >85.26</td>\n",
       "      <td id=\"T_ba40e_row2_col4\" class=\"data row2 col4\" >nan</td>\n",
       "    </tr>\n",
       "    <tr>\n",
       "      <th id=\"T_ba40e_level0_row3\" class=\"row_heading level0 row3\" >(645, 680]</th>\n",
       "      <td id=\"T_ba40e_row3_col0\" class=\"data row3 col0\" >nan</td>\n",
       "      <td id=\"T_ba40e_row3_col1\" class=\"data row3 col1\" >nan</td>\n",
       "      <td id=\"T_ba40e_row3_col2\" class=\"data row3 col2\" >68.46</td>\n",
       "      <td id=\"T_ba40e_row3_col3\" class=\"data row3 col3\" >83.67</td>\n",
       "      <td id=\"T_ba40e_row3_col4\" class=\"data row3 col4\" >nan</td>\n",
       "    </tr>\n",
       "    <tr>\n",
       "      <th id=\"T_ba40e_level0_row4\" class=\"row_heading level0 row4\" >Large (2000-5000)</th>\n",
       "      <td id=\"T_ba40e_row4_col0\" class=\"data row4 col0\" >77.48</td>\n",
       "      <td id=\"T_ba40e_row4_col1\" class=\"data row4 col1\" >81.20</td>\n",
       "      <td id=\"T_ba40e_row4_col2\" class=\"data row4 col2\" >nan</td>\n",
       "      <td id=\"T_ba40e_row4_col3\" class=\"data row4 col3\" >nan</td>\n",
       "      <td id=\"T_ba40e_row4_col4\" class=\"data row4 col4\" >60.35</td>\n",
       "    </tr>\n",
       "    <tr>\n",
       "      <th id=\"T_ba40e_level0_row5\" class=\"row_heading level0 row5\" >Medium (1000-2000)</th>\n",
       "      <td id=\"T_ba40e_row5_col0\" class=\"data row5 col0\" >83.37</td>\n",
       "      <td id=\"T_ba40e_row5_col1\" class=\"data row5 col1\" >83.87</td>\n",
       "      <td id=\"T_ba40e_row5_col2\" class=\"data row5 col2\" >nan</td>\n",
       "      <td id=\"T_ba40e_row5_col3\" class=\"data row5 col3\" >nan</td>\n",
       "      <td id=\"T_ba40e_row5_col4\" class=\"data row5 col4\" >97.03</td>\n",
       "    </tr>\n",
       "    <tr>\n",
       "      <th id=\"T_ba40e_level0_row6\" class=\"row_heading level0 row6\" >Small (<1000)</th>\n",
       "      <td id=\"T_ba40e_row6_col0\" class=\"data row6 col0\" >83.83</td>\n",
       "      <td id=\"T_ba40e_row6_col1\" class=\"data row6 col1\" >83.97</td>\n",
       "      <td id=\"T_ba40e_row6_col2\" class=\"data row6 col2\" >nan</td>\n",
       "      <td id=\"T_ba40e_row6_col3\" class=\"data row6 col3\" >nan</td>\n",
       "      <td id=\"T_ba40e_row6_col4\" class=\"data row6 col4\" >96.83</td>\n",
       "    </tr>\n",
       "  </tbody>\n",
       "</table>\n"
      ],
      "text/plain": [
       "<pandas.io.formats.style.Styler at 0x7ff195c676a0>"
      ]
     },
     "execution_count": 59,
     "metadata": {},
     "output_type": "execute_result"
    }
   ],
   "source": [
    "size_summary = pd.DataFrame({\n",
    "    \"Average Math Score\": avera_math_score,\n",
    "    \"Average Reading Score\": avera_reading_score,\n",
    "    \"% Passing Math\": pass_math,\n",
    "    \"% Passing Reading\": pass_read,\n",
    "    \"% Overall Passing\": overall\n",
    "            \n",
    "})\n",
    "            \n",
    "#reorder columns\n",
    "size_summary = size_summary[[\n",
    "    \"Average Math Score\",\n",
    "    \"Average Reading Score\",\n",
    "    \"% Passing Math\",\n",
    "    \"% Passing Reading\",\n",
    "    \"% Overall Passing\"\n",
    "]]\n",
    "\n",
    "size_summary.index.name = \"Per Student Budget\"\n",
    "\n",
    "\n",
    "#formating\n",
    "size_summary.style.format({'Average Math Score': '{:.2f}', \n",
    "                              'Average Reading Score': '{:.2f}', \n",
    "                              '% Passing Math': '{:.2f}', \n",
    "                              '% Passing Reading':'{:.2f}', \n",
    "                              '% Overall Passing': '{:.2f}'})"
   ]
  },
  {
   "cell_type": "code",
   "execution_count": 60,
   "metadata": {},
   "outputs": [],
   "source": [
    "school_type=school_data_finished.groupby('type')"
   ]
  },
  {
   "cell_type": "code",
   "execution_count": 61,
   "metadata": {},
   "outputs": [],
   "source": [
    "average_math_score = school_type['math_score'].mean()\n",
    "average_reading_score = school_type['math_score'].mean()\n",
    "pass_math_percent = school_data_finished[school_data_finished['math_score'] >= 69].groupby('type')['Student ID'].count()/school_type['Student ID'].count()*100\n",
    "pass_read_percent = school_data_finished[school_data_finished['reading_score'] >= 69].groupby('type')['Student ID'].count()/school_type['Student ID'].count()*100\n",
    "overall = school_data_finished[(school_data_finished['reading_score'] >= 69) & (school_data_finished['math_score'] >= 69)].groupby('type')['Student ID'].count()/school_type['Student ID'].count()*100\n"
   ]
  },
  {
   "cell_type": "code",
   "execution_count": 62,
   "metadata": {},
   "outputs": [
    {
     "data": {
      "text/html": [
       "<style type=\"text/css\">\n",
       "</style>\n",
       "<table id=\"T_a469a\">\n",
       "  <thead>\n",
       "    <tr>\n",
       "      <th class=\"blank level0\" >&nbsp;</th>\n",
       "      <th id=\"T_a469a_level0_col0\" class=\"col_heading level0 col0\" >Average Math Score</th>\n",
       "      <th id=\"T_a469a_level0_col1\" class=\"col_heading level0 col1\" >Average Reading Score</th>\n",
       "      <th id=\"T_a469a_level0_col2\" class=\"col_heading level0 col2\" >% Passing Math</th>\n",
       "      <th id=\"T_a469a_level0_col3\" class=\"col_heading level0 col3\" >% Passing Reading</th>\n",
       "      <th id=\"T_a469a_level0_col4\" class=\"col_heading level0 col4\" >% Overall Passing</th>\n",
       "    </tr>\n",
       "    <tr>\n",
       "      <th class=\"index_name level0\" >Type of School</th>\n",
       "      <th class=\"blank col0\" >&nbsp;</th>\n",
       "      <th class=\"blank col1\" >&nbsp;</th>\n",
       "      <th class=\"blank col2\" >&nbsp;</th>\n",
       "      <th class=\"blank col3\" >&nbsp;</th>\n",
       "      <th class=\"blank col4\" >&nbsp;</th>\n",
       "    </tr>\n",
       "  </thead>\n",
       "  <tbody>\n",
       "    <tr>\n",
       "      <th id=\"T_a469a_level0_row0\" class=\"row_heading level0 row0\" >Charter</th>\n",
       "      <td id=\"T_a469a_row0_col0\" class=\"data row0 col0\" >83.406183</td>\n",
       "      <td id=\"T_a469a_row0_col1\" class=\"data row0 col1\" >83.406183</td>\n",
       "      <td id=\"T_a469a_row0_col2\" class=\"data row0 col2\" >96.908316</td>\n",
       "      <td id=\"T_a469a_row0_col3\" class=\"data row0 col3\" >100.000000</td>\n",
       "      <td id=\"T_a469a_row0_col4\" class=\"data row0 col4\" >96.908316</td>\n",
       "    </tr>\n",
       "    <tr>\n",
       "      <th id=\"T_a469a_level0_row1\" class=\"row_heading level0 row1\" >District</th>\n",
       "      <td id=\"T_a469a_row1_col0\" class=\"data row1 col0\" >76.987026</td>\n",
       "      <td id=\"T_a469a_row1_col1\" class=\"data row1 col1\" >76.987026</td>\n",
       "      <td id=\"T_a469a_row1_col2\" class=\"data row1 col2\" >68.746293</td>\n",
       "      <td id=\"T_a469a_row1_col3\" class=\"data row1 col3\" >83.503855</td>\n",
       "      <td id=\"T_a469a_row1_col4\" class=\"data row1 col4\" >57.291667</td>\n",
       "    </tr>\n",
       "  </tbody>\n",
       "</table>\n"
      ],
      "text/plain": [
       "<pandas.io.formats.style.Styler at 0x7ff178653730>"
      ]
     },
     "execution_count": 62,
     "metadata": {},
     "output_type": "execute_result"
    }
   ],
   "source": [
    "scores_schools_type = pd.DataFrame({\n",
    "    \"Average Math Score\": average_math_score,\n",
    "    \"Average Reading Score\": average_reading_score,\n",
    "    '% Passing Math': pass_math_percent,\n",
    "    '% Passing Reading': pass_read_percent,\n",
    "    \"% Overall Passing\": overall})\n",
    "    \n",
    "#reorder columns\n",
    "scores_schools_type = scores_schools_type[[\n",
    "    \"Average Math Score\",\n",
    "    \"Average Reading Score\",\n",
    "    '% Passing Math',\n",
    "    '% Passing Reading',\n",
    "    \"% Overall Passing\"\n",
    "]]\n",
    "scores_schools_type.index.name = \"Type of School\"\n",
    "\n",
    "\n",
    "#formating\n",
    "scores_schools_type.style.format({'Average Math Score': '{:.6f}', \n",
    "                              'Average Reading Score': '{:.6f}', \n",
    "                              '% Passing Math': '{:.6f}', \n",
    "                              '% Passing Reading':'{:.6f}', \n",
    "                              '% Overall Passing': '{:.6f}'})"
   ]
  },
  {
   "cell_type": "code",
   "execution_count": null,
   "metadata": {},
   "outputs": [],
   "source": []
  },
  {
   "cell_type": "code",
   "execution_count": null,
   "metadata": {},
   "outputs": [],
   "source": []
  },
  {
   "cell_type": "code",
   "execution_count": null,
   "metadata": {},
   "outputs": [],
   "source": []
  }
 ],
 "metadata": {
  "kernelspec": {
   "display_name": "Python [conda env:dev] *",
   "language": "python",
   "name": "conda-env-dev-py"
  },
  "language_info": {
   "codemirror_mode": {
    "name": "ipython",
    "version": 3
   },
   "file_extension": ".py",
   "mimetype": "text/x-python",
   "name": "python",
   "nbconvert_exporter": "python",
   "pygments_lexer": "ipython3",
   "version": "3.10.12"
  }
 },
 "nbformat": 4,
 "nbformat_minor": 2
}
